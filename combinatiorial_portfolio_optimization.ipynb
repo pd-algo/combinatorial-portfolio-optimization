{
 "cells": [
  {
   "cell_type": "markdown",
   "metadata": {
    "colab_type": "text",
    "id": "view-in-github"
   },
   "source": [
    "<a href=\"https://colab.research.google.com/gist/kenichi-lon/fd086ab3e9bea539d92470e48493934b/tds_qa_example_portfolio_optimisation.ipynb\" target=\"_parent\"><img src=\"https://colab.research.google.com/assets/colab-badge.svg\" alt=\"Open In Colab\"/></a>"
   ]
  },
  {
   "cell_type": "markdown",
   "metadata": {
    "id": "aQbHUjMPD3GZ",
    "jp-MarkdownHeadingCollapsed": true,
    "tags": []
   },
   "source": [
    "# 1. Import historical stock price data from the internet\n"
   ]
  },
  {
   "cell_type": "markdown",
   "metadata": {
    "id": "slZHyufhIy_m"
   },
   "source": [
    "First of all, Install Yahoo finance library to retrieve stock data.\n",
    "We will import randomly selected 20 stocks from FTSE100 and extract the historical closing prices for the past 2 years from July 2020."
   ]
  },
  {
   "cell_type": "code",
   "execution_count": null,
   "metadata": {
    "id": "mnsygle_Dpw6"
   },
   "outputs": [],
   "source": [
    "# !pip install yfinance"
   ]
  },
  {
   "cell_type": "code",
   "execution_count": 1,
   "metadata": {
    "id": "VXCVsQj_uTcO"
   },
   "outputs": [],
   "source": [
    "# import yfinance as yf  \n",
    "import numpy as np\n",
    "import pandas as pd"
   ]
  },
  {
   "cell_type": "code",
   "execution_count": 2,
   "metadata": {
    "colab": {
     "base_uri": "https://localhost:8080/"
    },
    "id": "B8fQ4MloD_zP",
    "outputId": "20fffb52-6657-48f5-d747-d45588eac329"
   },
   "outputs": [],
   "source": [
    "# list of FTSE100 stocks available at \n",
    "# https://www.londonstockexchange.com/indices/ftse-100/constituents/table\n",
    "# below are randomly selected stocks\n",
    "\n",
    "# stocks_dict = {\n",
    "#     'AAPL': 'APPLE',\n",
    "#     'WMT':'WALMART',\n",
    "#     'MSFT':'MICROSOFT',\n",
    "#     'AAL':'AMERICAN AIRLINES GROUP'\n",
    "#     }\n",
    "    \n",
    "# stocks = list(stocks_dict.keys()) # list of candidate stocks\n",
    "\n",
    "# df = yf.download(stocks,'2021-01-01','2022-10-31')['Close'] # main data\n",
    "# df_test = yf.download(stocks,'2022-11-01','2023-01-1')['Close'] # testing data"
   ]
  },
  {
   "cell_type": "code",
   "execution_count": 3,
   "metadata": {},
   "outputs": [],
   "source": [
    "# df.to_csv(\"train_data.csv\")\n",
    "# df_test.to_csv(\"test_data.csv\")"
   ]
  },
  {
   "cell_type": "code",
   "execution_count": 4,
   "metadata": {},
   "outputs": [],
   "source": [
    "df = pd.read_csv(\"train_data.csv\")\n",
    "df_test = pd.read_csv(\"test_data.csv\")"
   ]
  },
  {
   "cell_type": "code",
   "execution_count": 5,
   "metadata": {},
   "outputs": [],
   "source": [
    "data = df.copy()\n",
    "data_test = df_test.copy()"
   ]
  },
  {
   "cell_type": "code",
   "execution_count": 6,
   "metadata": {},
   "outputs": [],
   "source": [
    "data = data.set_index('Date', drop=True)\n",
    "data_test = data_test.set_index('Date', drop=True)"
   ]
  },
  {
   "cell_type": "code",
   "execution_count": 7,
   "metadata": {},
   "outputs": [],
   "source": [
    "stocks = list(data.columns) # list of candidate stocks"
   ]
  },
  {
   "cell_type": "code",
   "execution_count": 8,
   "metadata": {},
   "outputs": [
    {
     "data": {
      "text/html": [
       "<div>\n",
       "<style scoped>\n",
       "    .dataframe tbody tr th:only-of-type {\n",
       "        vertical-align: middle;\n",
       "    }\n",
       "\n",
       "    .dataframe tbody tr th {\n",
       "        vertical-align: top;\n",
       "    }\n",
       "\n",
       "    .dataframe thead th {\n",
       "        text-align: right;\n",
       "    }\n",
       "</style>\n",
       "<table border=\"1\" class=\"dataframe\">\n",
       "  <thead>\n",
       "    <tr style=\"text-align: right;\">\n",
       "      <th></th>\n",
       "      <th>AAL</th>\n",
       "      <th>AAPL</th>\n",
       "      <th>MSFT</th>\n",
       "      <th>WMT</th>\n",
       "    </tr>\n",
       "    <tr>\n",
       "      <th>Date</th>\n",
       "      <th></th>\n",
       "      <th></th>\n",
       "      <th></th>\n",
       "      <th></th>\n",
       "    </tr>\n",
       "  </thead>\n",
       "  <tbody>\n",
       "    <tr>\n",
       "      <th>2021-01-04</th>\n",
       "      <td>15.130000</td>\n",
       "      <td>129.410004</td>\n",
       "      <td>217.690002</td>\n",
       "      <td>146.529999</td>\n",
       "    </tr>\n",
       "    <tr>\n",
       "      <th>2021-01-05</th>\n",
       "      <td>15.430000</td>\n",
       "      <td>131.009995</td>\n",
       "      <td>217.899994</td>\n",
       "      <td>145.750000</td>\n",
       "    </tr>\n",
       "    <tr>\n",
       "      <th>2021-01-06</th>\n",
       "      <td>15.520000</td>\n",
       "      <td>126.599998</td>\n",
       "      <td>212.250000</td>\n",
       "      <td>146.660004</td>\n",
       "    </tr>\n",
       "    <tr>\n",
       "      <th>2021-01-07</th>\n",
       "      <td>15.380000</td>\n",
       "      <td>130.919998</td>\n",
       "      <td>218.289993</td>\n",
       "      <td>146.649994</td>\n",
       "    </tr>\n",
       "    <tr>\n",
       "      <th>2021-01-08</th>\n",
       "      <td>15.130000</td>\n",
       "      <td>132.050003</td>\n",
       "      <td>219.619995</td>\n",
       "      <td>146.630005</td>\n",
       "    </tr>\n",
       "    <tr>\n",
       "      <th>2021-01-11</th>\n",
       "      <td>15.000000</td>\n",
       "      <td>128.979996</td>\n",
       "      <td>217.490005</td>\n",
       "      <td>147.289993</td>\n",
       "    </tr>\n",
       "    <tr>\n",
       "      <th>2021-01-12</th>\n",
       "      <td>15.380000</td>\n",
       "      <td>128.800003</td>\n",
       "      <td>214.929993</td>\n",
       "      <td>148.970001</td>\n",
       "    </tr>\n",
       "    <tr>\n",
       "      <th>2021-01-13</th>\n",
       "      <td>15.530000</td>\n",
       "      <td>130.889999</td>\n",
       "      <td>216.339996</td>\n",
       "      <td>147.449997</td>\n",
       "    </tr>\n",
       "    <tr>\n",
       "      <th>2021-01-14</th>\n",
       "      <td>16.440001</td>\n",
       "      <td>128.910004</td>\n",
       "      <td>213.020004</td>\n",
       "      <td>146.970001</td>\n",
       "    </tr>\n",
       "    <tr>\n",
       "      <th>2021-01-15</th>\n",
       "      <td>15.760000</td>\n",
       "      <td>127.139999</td>\n",
       "      <td>212.649994</td>\n",
       "      <td>144.639999</td>\n",
       "    </tr>\n",
       "  </tbody>\n",
       "</table>\n",
       "</div>"
      ],
      "text/plain": [
       "                  AAL        AAPL        MSFT         WMT\n",
       "Date                                                     \n",
       "2021-01-04  15.130000  129.410004  217.690002  146.529999\n",
       "2021-01-05  15.430000  131.009995  217.899994  145.750000\n",
       "2021-01-06  15.520000  126.599998  212.250000  146.660004\n",
       "2021-01-07  15.380000  130.919998  218.289993  146.649994\n",
       "2021-01-08  15.130000  132.050003  219.619995  146.630005\n",
       "2021-01-11  15.000000  128.979996  217.490005  147.289993\n",
       "2021-01-12  15.380000  128.800003  214.929993  148.970001\n",
       "2021-01-13  15.530000  130.889999  216.339996  147.449997\n",
       "2021-01-14  16.440001  128.910004  213.020004  146.970001\n",
       "2021-01-15  15.760000  127.139999  212.649994  144.639999"
      ]
     },
     "execution_count": 8,
     "metadata": {},
     "output_type": "execute_result"
    }
   ],
   "source": [
    "data.head(10)"
   ]
  },
  {
   "cell_type": "code",
   "execution_count": 9,
   "metadata": {},
   "outputs": [
    {
     "data": {
      "text/plain": [
       "(4, 2)"
      ]
     },
     "execution_count": 9,
     "metadata": {},
     "output_type": "execute_result"
    }
   ],
   "source": [
    "# N = len(stocks) # number of candidate stocks\n",
    "N = len(data.columns)\n",
    "num_stocks = 2 # selected stocks\n",
    "N, num_stocks"
   ]
  },
  {
   "cell_type": "code",
   "execution_count": 10,
   "metadata": {
    "colab": {
     "base_uri": "https://localhost:8080/",
     "height": 364
    },
    "id": "kwMT3Yb_X1V5",
    "outputId": "3bd6d8ef-b5ec-4975-cb3b-3c96fe2e91d0"
   },
   "outputs": [
    {
     "data": {
      "text/html": [
       "<div>\n",
       "<style scoped>\n",
       "    .dataframe tbody tr th:only-of-type {\n",
       "        vertical-align: middle;\n",
       "    }\n",
       "\n",
       "    .dataframe tbody tr th {\n",
       "        vertical-align: top;\n",
       "    }\n",
       "\n",
       "    .dataframe thead th {\n",
       "        text-align: right;\n",
       "    }\n",
       "</style>\n",
       "<table border=\"1\" class=\"dataframe\">\n",
       "  <thead>\n",
       "    <tr style=\"text-align: right;\">\n",
       "      <th></th>\n",
       "      <th>AAL</th>\n",
       "      <th>AAPL</th>\n",
       "      <th>MSFT</th>\n",
       "      <th>WMT</th>\n",
       "    </tr>\n",
       "  </thead>\n",
       "  <tbody>\n",
       "    <tr>\n",
       "      <th>count</th>\n",
       "      <td>460.000000</td>\n",
       "      <td>460.000000</td>\n",
       "      <td>460.000000</td>\n",
       "      <td>460.000000</td>\n",
       "    </tr>\n",
       "    <tr>\n",
       "      <th>mean</th>\n",
       "      <td>18.194000</td>\n",
       "      <td>148.437957</td>\n",
       "      <td>275.351869</td>\n",
       "      <td>139.361044</td>\n",
       "    </tr>\n",
       "    <tr>\n",
       "      <th>std</th>\n",
       "      <td>3.281667</td>\n",
       "      <td>15.952427</td>\n",
       "      <td>31.821654</td>\n",
       "      <td>8.076548</td>\n",
       "    </tr>\n",
       "    <tr>\n",
       "      <th>min</th>\n",
       "      <td>11.860000</td>\n",
       "      <td>116.360001</td>\n",
       "      <td>212.250000</td>\n",
       "      <td>118.290001</td>\n",
       "    </tr>\n",
       "    <tr>\n",
       "      <th>25%</th>\n",
       "      <td>15.515000</td>\n",
       "      <td>135.364998</td>\n",
       "      <td>249.587494</td>\n",
       "      <td>134.134998</td>\n",
       "    </tr>\n",
       "    <tr>\n",
       "      <th>50%</th>\n",
       "      <td>18.245000</td>\n",
       "      <td>147.894997</td>\n",
       "      <td>275.820007</td>\n",
       "      <td>140.025002</td>\n",
       "    </tr>\n",
       "    <tr>\n",
       "      <th>75%</th>\n",
       "      <td>20.685000</td>\n",
       "      <td>161.110004</td>\n",
       "      <td>299.107498</td>\n",
       "      <td>144.690002</td>\n",
       "    </tr>\n",
       "    <tr>\n",
       "      <th>max</th>\n",
       "      <td>25.820000</td>\n",
       "      <td>182.009995</td>\n",
       "      <td>343.109985</td>\n",
       "      <td>159.869995</td>\n",
       "    </tr>\n",
       "  </tbody>\n",
       "</table>\n",
       "</div>"
      ],
      "text/plain": [
       "              AAL        AAPL        MSFT         WMT\n",
       "count  460.000000  460.000000  460.000000  460.000000\n",
       "mean    18.194000  148.437957  275.351869  139.361044\n",
       "std      3.281667   15.952427   31.821654    8.076548\n",
       "min     11.860000  116.360001  212.250000  118.290001\n",
       "25%     15.515000  135.364998  249.587494  134.134998\n",
       "50%     18.245000  147.894997  275.820007  140.025002\n",
       "75%     20.685000  161.110004  299.107498  144.690002\n",
       "max     25.820000  182.009995  343.109985  159.869995"
      ]
     },
     "execution_count": 10,
     "metadata": {},
     "output_type": "execute_result"
    }
   ],
   "source": [
    "data.describe()"
   ]
  },
  {
   "cell_type": "code",
   "execution_count": 11,
   "metadata": {
    "colab": {
     "base_uri": "https://localhost:8080/",
     "height": 364
    },
    "id": "qP_ey5ncNfmv",
    "outputId": "15310f68-22a7-48ed-e0f7-c56d0ef7daf2"
   },
   "outputs": [
    {
     "data": {
      "text/html": [
       "<div>\n",
       "<style scoped>\n",
       "    .dataframe tbody tr th:only-of-type {\n",
       "        vertical-align: middle;\n",
       "    }\n",
       "\n",
       "    .dataframe tbody tr th {\n",
       "        vertical-align: top;\n",
       "    }\n",
       "\n",
       "    .dataframe thead th {\n",
       "        text-align: right;\n",
       "    }\n",
       "</style>\n",
       "<table border=\"1\" class=\"dataframe\">\n",
       "  <thead>\n",
       "    <tr style=\"text-align: right;\">\n",
       "      <th></th>\n",
       "      <th>AAL</th>\n",
       "      <th>AAPL</th>\n",
       "      <th>MSFT</th>\n",
       "      <th>WMT</th>\n",
       "    </tr>\n",
       "  </thead>\n",
       "  <tbody>\n",
       "    <tr>\n",
       "      <th>count</th>\n",
       "      <td>42.000000</td>\n",
       "      <td>42.000000</td>\n",
       "      <td>42.000000</td>\n",
       "      <td>42.000000</td>\n",
       "    </tr>\n",
       "    <tr>\n",
       "      <th>mean</th>\n",
       "      <td>13.710000</td>\n",
       "      <td>141.859999</td>\n",
       "      <td>241.458809</td>\n",
       "      <td>146.274047</td>\n",
       "    </tr>\n",
       "    <tr>\n",
       "      <th>std</th>\n",
       "      <td>0.725134</td>\n",
       "      <td>7.260650</td>\n",
       "      <td>9.878504</td>\n",
       "      <td>4.541800</td>\n",
       "    </tr>\n",
       "    <tr>\n",
       "      <th>min</th>\n",
       "      <td>12.320000</td>\n",
       "      <td>126.040001</td>\n",
       "      <td>214.250000</td>\n",
       "      <td>138.389999</td>\n",
       "    </tr>\n",
       "    <tr>\n",
       "      <th>25%</th>\n",
       "      <td>13.110000</td>\n",
       "      <td>135.712498</td>\n",
       "      <td>239.002499</td>\n",
       "      <td>142.482498</td>\n",
       "    </tr>\n",
       "    <tr>\n",
       "      <th>50%</th>\n",
       "      <td>13.960000</td>\n",
       "      <td>143.060005</td>\n",
       "      <td>241.885002</td>\n",
       "      <td>145.334999</td>\n",
       "    </tr>\n",
       "    <tr>\n",
       "      <th>75%</th>\n",
       "      <td>14.185000</td>\n",
       "      <td>148.090000</td>\n",
       "      <td>247.327496</td>\n",
       "      <td>150.144997</td>\n",
       "    </tr>\n",
       "    <tr>\n",
       "      <th>max</th>\n",
       "      <td>14.930000</td>\n",
       "      <td>151.289993</td>\n",
       "      <td>257.220001</td>\n",
       "      <td>153.509995</td>\n",
       "    </tr>\n",
       "  </tbody>\n",
       "</table>\n",
       "</div>"
      ],
      "text/plain": [
       "             AAL        AAPL        MSFT         WMT\n",
       "count  42.000000   42.000000   42.000000   42.000000\n",
       "mean   13.710000  141.859999  241.458809  146.274047\n",
       "std     0.725134    7.260650    9.878504    4.541800\n",
       "min    12.320000  126.040001  214.250000  138.389999\n",
       "25%    13.110000  135.712498  239.002499  142.482498\n",
       "50%    13.960000  143.060005  241.885002  145.334999\n",
       "75%    14.185000  148.090000  247.327496  150.144997\n",
       "max    14.930000  151.289993  257.220001  153.509995"
      ]
     },
     "execution_count": 11,
     "metadata": {},
     "output_type": "execute_result"
    }
   ],
   "source": [
    "data_test.describe()"
   ]
  },
  {
   "cell_type": "markdown",
   "metadata": {
    "id": "W2Wy0fxgsPrz",
    "tags": []
   },
   "source": [
    "# 2. Prepare data by cleansing and feature engineering\n"
   ]
  },
  {
   "cell_type": "markdown",
   "metadata": {
    "id": "VIbKQ2AzvIAl"
   },
   "source": [
    "Check null values. We will drop a row with null in this example for simplicity  but please cosnider replacing the values if possible."
   ]
  },
  {
   "cell_type": "code",
   "execution_count": 12,
   "metadata": {
    "colab": {
     "base_uri": "https://localhost:8080/"
    },
    "id": "Q7UlzUv7ZpHS",
    "outputId": "7d52ff9e-99e9-4458-bebb-1227b8801db6"
   },
   "outputs": [
    {
     "name": "stdout",
     "output_type": "stream",
     "text": [
      "AAL     0\n",
      "AAPL    0\n",
      "MSFT    0\n",
      "WMT     0\n",
      "dtype: int64\n"
     ]
    }
   ],
   "source": [
    "print(data.isna().sum()) # null row for each stock"
   ]
  },
  {
   "cell_type": "code",
   "execution_count": 13,
   "metadata": {
    "colab": {
     "base_uri": "https://localhost:8080/"
    },
    "id": "kF5eB8_LN2Hz",
    "outputId": "aeb3f233-7292-4132-c4a5-3abc62dd112a"
   },
   "outputs": [
    {
     "data": {
      "text/plain": [
       "AAL     0\n",
       "AAPL    0\n",
       "MSFT    0\n",
       "WMT     0\n",
       "dtype: int64"
      ]
     },
     "execution_count": 13,
     "metadata": {},
     "output_type": "execute_result"
    }
   ],
   "source": [
    "data_test.isna().sum() # check for test data"
   ]
  },
  {
   "cell_type": "code",
   "execution_count": 14,
   "metadata": {
    "colab": {
     "base_uri": "https://localhost:8080/"
    },
    "id": "TrqWiGbzcmuC",
    "outputId": "0d5d9a6a-7c93-4857-87a5-89da4e033616"
   },
   "outputs": [
    {
     "data": {
      "text/plain": [
       "(460, 4)"
      ]
     },
     "execution_count": 14,
     "metadata": {},
     "output_type": "execute_result"
    }
   ],
   "source": [
    "data.dropna(inplace=True) # drop the rows\n",
    "data.shape"
   ]
  },
  {
   "cell_type": "code",
   "execution_count": 15,
   "metadata": {
    "colab": {
     "base_uri": "https://localhost:8080/"
    },
    "id": "PFC3Fv6-c1ii",
    "outputId": "88282590-12a5-4cf7-deba-f4367ee770fd"
   },
   "outputs": [
    {
     "data": {
      "text/plain": [
       "(42, 4)"
      ]
     },
     "execution_count": 15,
     "metadata": {},
     "output_type": "execute_result"
    }
   ],
   "source": [
    "data_test.shape"
   ]
  },
  {
   "cell_type": "markdown",
   "metadata": {
    "id": "XYuopxu2M16X",
    "tags": []
   },
   "source": [
    "## Feature Engineering"
   ]
  },
  {
   "cell_type": "markdown",
   "metadata": {
    "id": "7GSqM12zuK8s"
   },
   "source": [
    "To make prediction, we use Prophet. See more at https://facebook.github.io/prophet/\n",
    "\n",
    "We make time series prediction based on the historical data between January 2021 and October 2022. The period to predict is November 2022 till late January 2023, which is the same period of the data in test set.\n",
    "\n",
    "The predicted values are transformed to be the average return rate for each stock. We can use it for one of the objectives to maximise the sum of return rates."
   ]
  },
  {
   "cell_type": "code",
   "execution_count": null,
   "metadata": {
    "id": "p0bAaw8huJxJ"
   },
   "outputs": [],
   "source": [
    "# !pip install prophet"
   ]
  },
  {
   "cell_type": "code",
   "execution_count": 16,
   "metadata": {
    "id": "9kmSFx0mzU4x"
   },
   "outputs": [],
   "source": [
    "from prophet import Prophet"
   ]
  },
  {
   "cell_type": "code",
   "execution_count": 39,
   "metadata": {
    "id": "rgmtGCvLzb7B"
   },
   "outputs": [
    {
     "name": "stderr",
     "output_type": "stream",
     "text": [
      "10:56:01 - cmdstanpy - INFO - Chain [1] start processing\n",
      "10:56:01 - cmdstanpy - INFO - Chain [1] done processing\n"
     ]
    },
    {
     "name": "stdout",
     "output_type": "stream",
     "text": [
      "Date\n",
      "2021-01-04    15.13\n",
      "2021-01-05    15.43\n",
      "2021-01-06    15.52\n",
      "2021-01-07    15.38\n",
      "2021-01-08    15.13\n",
      "              ...  \n",
      "2022-10-24    14.10\n",
      "2022-10-25    14.29\n",
      "2022-10-26    14.00\n",
      "2022-10-27    13.97\n",
      "2022-10-28    14.00\n",
      "Name: y, Length: 460, dtype: float64\n"
     ]
    },
    {
     "name": "stderr",
     "output_type": "stream",
     "text": [
      "10:56:02 - cmdstanpy - INFO - Chain [1] start processing\n",
      "10:56:02 - cmdstanpy - INFO - Chain [1] done processing\n"
     ]
    },
    {
     "name": "stdout",
     "output_type": "stream",
     "text": [
      "Date\n",
      "2021-01-04    129.410004\n",
      "2021-01-05    131.009995\n",
      "2021-01-06    126.599998\n",
      "2021-01-07    130.919998\n",
      "2021-01-08    132.050003\n",
      "                 ...    \n",
      "2022-10-24    149.449997\n",
      "2022-10-25    152.339996\n",
      "2022-10-26    149.350006\n",
      "2022-10-27    144.800003\n",
      "2022-10-28    155.740005\n",
      "Name: y, Length: 460, dtype: float64\n"
     ]
    },
    {
     "name": "stderr",
     "output_type": "stream",
     "text": [
      "10:56:02 - cmdstanpy - INFO - Chain [1] start processing\n",
      "10:56:02 - cmdstanpy - INFO - Chain [1] done processing\n"
     ]
    },
    {
     "name": "stdout",
     "output_type": "stream",
     "text": [
      "Date\n",
      "2021-01-04    217.690002\n",
      "2021-01-05    217.899994\n",
      "2021-01-06    212.250000\n",
      "2021-01-07    218.289993\n",
      "2021-01-08    219.619995\n",
      "                 ...    \n",
      "2022-10-24    247.250000\n",
      "2022-10-25    250.660004\n",
      "2022-10-26    231.320007\n",
      "2022-10-27    226.750000\n",
      "2022-10-28    235.869995\n",
      "Name: y, Length: 460, dtype: float64\n"
     ]
    },
    {
     "name": "stderr",
     "output_type": "stream",
     "text": [
      "10:56:02 - cmdstanpy - INFO - Chain [1] start processing\n",
      "10:56:02 - cmdstanpy - INFO - Chain [1] done processing\n"
     ]
    },
    {
     "name": "stdout",
     "output_type": "stream",
     "text": [
      "Date\n",
      "2021-01-04    146.529999\n",
      "2021-01-05    145.750000\n",
      "2021-01-06    146.660004\n",
      "2021-01-07    146.649994\n",
      "2021-01-08    146.630005\n",
      "                 ...    \n",
      "2022-10-24    139.410004\n",
      "2022-10-25    140.070007\n",
      "2022-10-26    141.139999\n",
      "2022-10-27    140.729996\n",
      "2022-10-28    142.509995\n",
      "Name: y, Length: 460, dtype: float64\n"
     ]
    }
   ],
   "source": [
    "pred_return_rate = []\n",
    "pred_return_rate_mean = []\n",
    "i = 0 # current index of stock\n",
    "periods = data_test.shape[0] # number of days to forecast, same as data_test length\n",
    "\n",
    "for i in range(N): # for each stock\n",
    "    model = Prophet()\n",
    "    data['ds'] = data.index # index values (dates) as ds \n",
    "    data['y'] = data.iloc[:,i] # stock close price as y\n",
    "    print(data['y'])\n",
    "    stock_data = data[['ds','y']] # training data\n",
    "    model.fit(stock_data)\n",
    "    future = model.make_future_dataframe(periods=periods) # predict \n",
    "    forecast = model.predict(future)['yhat'] # predicted values stored in yhat column\n",
    "    return_rate = np.zeros(len(forecast)) # return rate to be stored in numpy array\n",
    "    for j in range(len(forecast)-1): \n",
    "        return_rate[j+1] = (forecast[j+1] - forecast[j])/forecast[j] # calculate the return rate per day\n",
    "    pred_return_rate.append(return_rate)\n",
    "    pred_return_rate_mean.append(np.mean(return_rate)) # predicted mean return rate for the stock\n",
    "    data.drop(columns=['ds','y'], inplace=True)"
   ]
  },
  {
   "cell_type": "code",
   "execution_count": null,
   "metadata": {
    "colab": {
     "base_uri": "https://localhost:8080/"
    },
    "id": "M7_Ijdiqg8Aj",
    "outputId": "338dc52d-17e7-4406-b362-1b6364ead9b3"
   },
   "outputs": [],
   "source": [
    "# print(pred_return_rate_mean)"
   ]
  },
  {
   "cell_type": "code",
   "execution_count": null,
   "metadata": {
    "colab": {
     "base_uri": "https://localhost:8080/"
    },
    "id": "aPGYYaL-diMU",
    "outputId": "af9a60bf-8b6a-414e-fb85-1c1ec20298bb"
   },
   "outputs": [],
   "source": [
    "# print(np.mean(pred_return_rate_mean))"
   ]
  },
  {
   "cell_type": "markdown",
   "metadata": {
    "id": "F2vo0ZanMwXh"
   },
   "source": [
    "We also calculate actual return rates from the historical stock price data. We will use the results for the calculation of covariance that will be used for the second objective function to reduce the risk by diversify the portfolio items to avoid losing it altogether."
   ]
  },
  {
   "cell_type": "code",
   "execution_count": 17,
   "metadata": {
    "id": "_yAkNF2qM2qP"
   },
   "outputs": [],
   "source": [
    "actual_return_rate = []\n",
    "actual_return_rate_mean = []\n",
    "for i in range(N): # for each stock\n",
    "    stock_data = data.iloc[:,i]\n",
    "    return_rate = np.zeros(len(stock_data)) # return rate to be stored in numpy array\n",
    "    for j in range(len(stock_data)-1): \n",
    "        return_rate[j+1] = (stock_data[j+1] - stock_data[j])/stock_data[j] # calculate the return rate per day\n",
    "    actual_return_rate.append(return_rate)\n",
    "    actual_return_rate_mean.append(np.mean(return_rate)) # predicted mean return rate for the stock"
   ]
  },
  {
   "cell_type": "code",
   "execution_count": 18,
   "metadata": {},
   "outputs": [
    {
     "data": {
      "text/plain": [
       "(4,\n",
       " 460,\n",
       " [0.00037916552109689875,\n",
       "  0.000580402761627413,\n",
       "  0.00033366205028875133,\n",
       "  3.8505182076294666e-05],\n",
       " 0.0,\n",
       " 0.0)"
      ]
     },
     "execution_count": 18,
     "metadata": {},
     "output_type": "execute_result"
    }
   ],
   "source": [
    "len(actual_return_rate), len(actual_return_rate[0]), actual_return_rate_mean, actual_return_rate[0][0], actual_return_rate[1][0]"
   ]
  },
  {
   "cell_type": "code",
   "execution_count": 19,
   "metadata": {
    "colab": {
     "base_uri": "https://localhost:8080/"
    },
    "id": "gmgGmzeNWMcr",
    "outputId": "75d34b1b-befe-446a-838e-1c527ee07f1d"
   },
   "outputs": [
    {
     "data": {
      "text/plain": [
       "0.00033293387877233945"
      ]
     },
     "execution_count": 19,
     "metadata": {},
     "output_type": "execute_result"
    }
   ],
   "source": [
    "actual_return_rate_mean_mean = np.mean(actual_return_rate_mean)\n",
    "actual_return_rate_mean_mean"
   ]
  },
  {
   "cell_type": "markdown",
   "metadata": {
    "id": "TfEthgUNW6IM"
   },
   "source": [
    "Finally, we calculate the actual return rates on the test set for the final evaluation."
   ]
  },
  {
   "cell_type": "code",
   "execution_count": 20,
   "metadata": {
    "id": "UdmpvABkW_ic"
   },
   "outputs": [],
   "source": [
    "actual_return_rate_test = []\n",
    "actual_return_rate_mean_test = []\n",
    "for i in range(N): # for each stock\n",
    "    stock_data = data_test.iloc[:,i]\n",
    "    return_rate = np.zeros(len(stock_data)) # return rate to be stored in numpy array\n",
    "    for j in range(len(stock_data)-1): \n",
    "        return_rate[j+1] = (stock_data[j+1] - stock_data[j])/stock_data[j] # calculate the return rate per day\n",
    "    actual_return_rate_test.append(return_rate)\n",
    "    actual_return_rate_mean_test.append(np.mean(return_rate)) # predicted mean return rate for the stock"
   ]
  },
  {
   "cell_type": "code",
   "execution_count": 21,
   "metadata": {
    "colab": {
     "base_uri": "https://localhost:8080/"
    },
    "id": "o0vfvXq6Xh7Z",
    "outputId": "7b1470e5-cd79-4749-f9f4-029dca6099c3"
   },
   "outputs": [
    {
     "data": {
      "text/plain": [
       "-0.0009457975679432734"
      ]
     },
     "execution_count": 21,
     "metadata": {},
     "output_type": "execute_result"
    }
   ],
   "source": [
    "actual_return_rate_mean_mean_test = np.mean(actual_return_rate_mean_test)\n",
    "actual_return_rate_mean_mean_test"
   ]
  },
  {
   "cell_type": "markdown",
   "metadata": {
    "id": "UvVp2ir5sfZJ"
   },
   "source": [
    "#3. Formulate the cost functions and constraints to obtain a QUBO matrix\n"
   ]
  },
  {
   "cell_type": "markdown",
   "metadata": {
    "id": "cqZdX2OCNDs3"
   },
   "source": [
    "## Constraint Terms"
   ]
  },
  {
   "cell_type": "markdown",
   "metadata": {
    "id": "qCrz-zttNG-z"
   },
   "source": [
    "In our portfolio optimisation example, let's assume 1 constraint: the number of stock to be included in the portfolio.\n",
    "\n",
    "In this example, we will use PyQubo, a python library that that can conver the cost function to a quadratic unconstraintbinary optimisation matrix that can be sent to D-wave qunatum annealer and JIJ simulated quantum annealer.\n",
    "\n"
   ]
  },
  {
   "cell_type": "code",
   "execution_count": null,
   "metadata": {
    "id": "Z7pdl2fZPdFw"
   },
   "outputs": [],
   "source": [
    "# !pip install pyqubo "
   ]
  },
  {
   "cell_type": "code",
   "execution_count": null,
   "metadata": {},
   "outputs": [],
   "source": [
    "# !pip show pyqubo"
   ]
  },
  {
   "cell_type": "code",
   "execution_count": 22,
   "metadata": {
    "id": "9GfTXQ-PPuiK"
   },
   "outputs": [],
   "source": [
    "from pyqubo import Array, Constraint, Placeholder\n",
    "import numpy as np"
   ]
  },
  {
   "cell_type": "code",
   "execution_count": 23,
   "metadata": {
    "id": "Rdza3plZQsQ1"
   },
   "outputs": [
    {
     "data": {
      "text/plain": [
       "Array([Binary('x[0]'), Binary('x[1]'), Binary('x[2]'), Binary('x[3]')])"
      ]
     },
     "execution_count": 23,
     "metadata": {},
     "output_type": "execute_result"
    }
   ],
   "source": [
    "x = Array.create('x',shape=N, vartype='BINARY') # array takes binary 0 or 1 indicate to exclude or include a stock in the portfolio, which we need to optimise\n",
    "x"
   ]
  },
  {
   "cell_type": "code",
   "execution_count": 24,
   "metadata": {
    "id": "k13isroNsuNo"
   },
   "outputs": [
    {
     "data": {
      "text/plain": [
       "((2.000000 + (-1.000000 * ((Binary('x[3]') * Binary('x[3]')) + (Binary('x[2]') * Binary('x[2]')) + (Binary('x[0]') * Binary('x[0]')) + (Binary('x[1]') * Binary('x[1]'))))) * (2.000000 + (-1.000000 * ((Binary('x[3]') * Binary('x[3]')) + (Binary('x[2]') * Binary('x[2]')) + (Binary('x[0]') * Binary('x[0]')) + (Binary('x[1]') * Binary('x[1]'))))))"
      ]
     },
     "execution_count": 24,
     "metadata": {},
     "output_type": "execute_result"
    }
   ],
   "source": [
    "# number of stocks constraint\n",
    "h_const1 = (num_stocks - np.dot(x,x))**2 # MSE from the budget. This lead to x values that makes the portfolio as close as the budget\n",
    "h_const1"
   ]
  },
  {
   "cell_type": "markdown",
   "metadata": {
    "id": "gt4jvfQsjNE_"
   },
   "source": [
    "## Cost Functions"
   ]
  },
  {
   "cell_type": "markdown",
   "metadata": {
    "id": "ualaqpV7BXFY"
   },
   "source": [
    "We have set two cost functions to optimise our portfolio. One is to maximise the sum of predicted growth rates that we predicted in the feature engineering section. Another is to minimise the covariance between each of the stock items to be selected in the portfolio. We then add up two cost functions for QUBO."
   ]
  },
  {
   "cell_type": "code",
   "execution_count": 40,
   "metadata": {
    "id": "4efqOsnhT_Gh"
   },
   "outputs": [],
   "source": [
    "# cost function 1 to aim the highest return\n",
    "h_cost1 = 0\n",
    "h_cost1 -= np.dot(x,pred_return_rate_mean) # maximisation problem. negative to make it minimisation problem"
   ]
  },
  {
   "cell_type": "code",
   "execution_count": 108,
   "metadata": {},
   "outputs": [
    {
     "data": {
      "text/plain": [
       "(0.000000 + (-1.000000 * ((Binary('x[3]') * -0.000074) + (Binary('x[2]') * 0.000124) + (Binary('x[0]') * -0.000510) + (Binary('x[1]') * 0.000309))))"
      ]
     },
     "execution_count": 108,
     "metadata": {},
     "output_type": "execute_result"
    }
   ],
   "source": [
    "h_cost1"
   ]
  },
  {
   "cell_type": "code",
   "execution_count": 26,
   "metadata": {
    "id": "V5bd5p0HeFAY"
   },
   "outputs": [],
   "source": [
    "# cost function 2 to balance the portfolio not to put all eggs in one basket\n",
    "# minimising the sum of covariance leads to the safer choice\n",
    "h_cost2 = 0\n",
    "for i in range(N):\n",
    "    for j in range(N):\n",
    "        h_cost2 += x[i]*x[j]*np.sum((actual_return_rate[i]-actual_return_rate_mean[i])*(actual_return_rate[j]-actual_return_rate_mean[j]))/len(actual_return_rate[i])"
   ]
  },
  {
   "cell_type": "code",
   "execution_count": 134,
   "metadata": {},
   "outputs": [
    {
     "data": {
      "text/plain": [
       "((((Binary('x[3]') * Binary('x[3]')) * 0.089424) * 0.002174) + (((Binary('x[3]') * Binary('x[2]')) * 0.032236) * 0.002174) + (((Binary('x[3]') * Binary('x[1]')) * 0.037109) * 0.002174) + (((Binary('x[3]') * Binary('x[0]')) * 0.023093) * 0.002174) + (((Binary('x[2]') * Binary('x[3]')) * 0.032236) * 0.002174) + (((Binary('x[2]') * Binary('x[2]')) * 0.146064) * 0.002174) + (((Binary('x[2]') * Binary('x[1]')) * 0.118118) * 0.002174) + (((Binary('x[2]') * Binary('x[0]')) * 0.090517) * 0.002174) + (((Binary('x[1]') * Binary('x[3]')) * 0.037109) * 0.002174) + (((Binary('x[1]') * Binary('x[2]')) * 0.118118) * 0.002174) + (((Binary('x[1]') * Binary('x[1]')) * 0.163459) * 0.002174) + (((Binary('x[1]') * Binary('x[0]')) * 0.108028) * 0.002174) + (((Binary('x[0]') * Binary('x[3]')) * 0.023093) * 0.002174) + (((Binary('x[0]') * Binary('x[2]')) * 0.090517) * 0.002174) + (((Binary('x[0]') * Binary('x[1]')) * 0.108028) * 0.002174) + 0.000000 + (((Binary('x[0]') * Binary('x[0]')) * 0.505665) * 0.002174))"
      ]
     },
     "execution_count": 134,
     "metadata": {},
     "output_type": "execute_result"
    }
   ],
   "source": [
    "h_cost2"
   ]
  },
  {
   "cell_type": "code",
   "execution_count": 41,
   "metadata": {
    "id": "3TCBs2OKRpJ2"
   },
   "outputs": [],
   "source": [
    "h_cost = h_cost1 + h_cost2\n",
    "# h_cost = h_cost2"
   ]
  },
  {
   "cell_type": "code",
   "execution_count": 133,
   "metadata": {},
   "outputs": [
    {
     "data": {
      "text/plain": [
       "(((((Binary('x[3]') * Binary('x[3]')) * 0.089424) * 0.002174) + (((Binary('x[3]') * Binary('x[2]')) * 0.032236) * 0.002174) + (((Binary('x[3]') * Binary('x[1]')) * 0.037109) * 0.002174) + (((Binary('x[3]') * Binary('x[0]')) * 0.023093) * 0.002174) + (((Binary('x[2]') * Binary('x[3]')) * 0.032236) * 0.002174) + (((Binary('x[2]') * Binary('x[2]')) * 0.146064) * 0.002174) + (((Binary('x[2]') * Binary('x[1]')) * 0.118118) * 0.002174) + (((Binary('x[2]') * Binary('x[0]')) * 0.090517) * 0.002174) + (((Binary('x[1]') * Binary('x[3]')) * 0.037109) * 0.002174) + (((Binary('x[1]') * Binary('x[2]')) * 0.118118) * 0.002174) + (((Binary('x[1]') * Binary('x[1]')) * 0.163459) * 0.002174) + (((Binary('x[1]') * Binary('x[0]')) * 0.108028) * 0.002174) + (((Binary('x[0]') * Binary('x[3]')) * 0.023093) * 0.002174) + (((Binary('x[0]') * Binary('x[2]')) * 0.090517) * 0.002174) + (((Binary('x[0]') * Binary('x[1]')) * 0.108028) * 0.002174) + 0.000000 + (((Binary('x[0]') * Binary('x[0]')) * 0.505665) * 0.002174)) + 0.000000 + (-1.000000 * ((Binary('x[3]') * -0.000074) + (Binary('x[2]') * 0.000124) + (Binary('x[0]') * -0.000510) + (Binary('x[1]') * 0.000309))))"
      ]
     },
     "execution_count": 133,
     "metadata": {},
     "output_type": "execute_result"
    }
   ],
   "source": [
    "h_cost"
   ]
  },
  {
   "cell_type": "code",
   "execution_count": 136,
   "metadata": {},
   "outputs": [],
   "source": [
    "text = \"\"\"(((((Binary('x[3]') * Binary('x[3]')) * 0.089424) * 0.002174) + (((Binary('x[3]') * Binary('x[2]')) * 0.032236) * 0.002174) + (((Binary('x[3]') * Binary('x[1]')) * 0.037109) * 0.002174) + (((Binary('x[3]') * Binary('x[0]')) * 0.023093) * 0.002174) + (((Binary('x[2]') * Binary('x[3]')) * 0.032236) * 0.002174) + (((Binary('x[2]') * Binary('x[2]')) * 0.146064) * 0.002174) + (((Binary('x[2]') * Binary('x[1]')) * 0.118118) * 0.002174) + (((Binary('x[2]') * Binary('x[0]')) * 0.090517) * 0.002174) + (((Binary('x[1]') * Binary('x[3]')) * 0.037109) * 0.002174) + (((Binary('x[1]') * Binary('x[2]')) * 0.118118) * 0.002174) + (((Binary('x[1]') * Binary('x[1]')) * 0.163459) * 0.002174) + (((Binary('x[1]') * Binary('x[0]')) * 0.108028) * 0.002174) + (((Binary('x[0]') * Binary('x[3]')) * 0.023093) * 0.002174) + (((Binary('x[0]') * Binary('x[2]')) * 0.090517) * 0.002174) + (((Binary('x[0]') * Binary('x[1]')) * 0.108028) * 0.002174) + 0.000000 + (((Binary('x[0]') * Binary('x[0]')) * 0.505665) * 0.002174)) + 0.000000 + (-1.000000 * ((Binary('x[3]') * -0.000074) + (Binary('x[2]') * 0.000124) + (Binary('x[0]') * -0.000510) + (Binary('x[1]') * 0.000309))))\"\"\"\n",
    "reg = \"\"\"Binary\\(.*?\\)\"\"\""
   ]
  },
  {
   "cell_type": "code",
   "execution_count": 140,
   "metadata": {},
   "outputs": [
    {
     "data": {
      "text/plain": [
       "'(((((x[3] * x[3]) * 0.089424) * 0.002174) + (((x[3] * x[2]) * 0.032236) * 0.002174) + (((x[3] * x[1]) * 0.037109) * 0.002174) + (((x[3] * x[0]) * 0.023093) * 0.002174) + (((x[2] * x[3]) * 0.032236) * 0.002174) + (((x[2] * x[2]) * 0.146064) * 0.002174) + (((x[2] * x[1]) * 0.118118) * 0.002174) + (((x[2] * x[0]) * 0.090517) * 0.002174) + (((x[1] * x[3]) * 0.037109) * 0.002174) + (((x[1] * x[2]) * 0.118118) * 0.002174) + (((x[1] * x[1]) * 0.163459) * 0.002174) + (((x[1] * x[0]) * 0.108028) * 0.002174) + (((x[0] * x[3]) * 0.023093) * 0.002174) + (((x[0] * x[2]) * 0.090517) * 0.002174) + (((x[0] * x[1]) * 0.108028) * 0.002174) + 0.000000 + (((x[0] * x[0]) * 0.505665) * 0.002174)) + 0.000000 + (-1.000000 * ((x[3] * -0.000074) + (x[2] * 0.000124) + (x[0] * -0.000510) + (x[1] * 0.000309))))'"
      ]
     },
     "execution_count": 140,
     "metadata": {},
     "output_type": "execute_result"
    }
   ],
   "source": [
    "import re\n",
    "text = re.sub(r\"Binary\\((.*?)\\)\", r\"\\1\", text)\n",
    "re.sub('\\'', '', text)"
   ]
  },
  {
   "cell_type": "markdown",
   "metadata": {
    "id": "pUh02l4qMA-2"
   },
   "source": [
    "## Prepare QUBO"
   ]
  },
  {
   "cell_type": "markdown",
   "metadata": {
    "id": "wiwvWGQHCaxr"
   },
   "source": [
    "The problme formulation and representation in QUBO format are habled by PyQubo applications. In the lines below, we compile the model using the objective function that needs to be minimised, then define the constraint coefficient. to_qubo function generates a QUBO matrix in the dictionary type and an offset value which is an costanct value not required for the search for the minimum."
   ]
  },
  {
   "cell_type": "code",
   "execution_count": 42,
   "metadata": {
    "id": "Oz6z5bXgXIZl"
   },
   "outputs": [],
   "source": [
    "h = h_cost + Placeholder('l1')*Constraint(h_const1,label='num_stocks')\n",
    "model = h.compile()"
   ]
  },
  {
   "cell_type": "code",
   "execution_count": 43,
   "metadata": {
    "id": "QtbTdpEja8pM"
   },
   "outputs": [],
   "source": [
    "feed_dict = {'l1': 2}\n",
    "qubo, offset = model.to_qubo(feed_dict=feed_dict)"
   ]
  },
  {
   "cell_type": "code",
   "execution_count": 44,
   "metadata": {
    "colab": {
     "base_uri": "https://localhost:8080/"
    },
    "id": "4NgrOS7_v_zB",
    "outputId": "b656b259-1a94-4612-bc8c-5c29139b420b"
   },
   "outputs": [
    {
     "data": {
      "text/plain": [
       "8.0"
      ]
     },
     "execution_count": 155,
     "metadata": {},
     "output_type": "execute_result"
    }
   ],
   "source": [
    "offset"
   ]
  },
  {
   "cell_type": "markdown",
   "metadata": {
    "id": "s1HR5k4L_3Rm",
    "jp-MarkdownHeadingCollapsed": true,
    "tags": []
   },
   "source": [
    "# 4. Sample optimisation results from a D-Wave solver\n"
   ]
  },
  {
   "cell_type": "markdown",
   "metadata": {
    "id": "m84Qzh9ZDZrU"
   },
   "source": [
    "Install D-Wave's Ocean SDK to request the computation to the quantum annealer. EmbeddingComposite is used to embed the QUBO to the physical quantum anneler in D-Wave.\n"
   ]
  },
  {
   "cell_type": "code",
   "execution_count": null,
   "metadata": {
    "id": "Wgkgc61O_t7P"
   },
   "outputs": [],
   "source": [
    "# !pip install dwave-ocean-sdk # https://docs.ocean.dwavesys.com/en/stable/"
   ]
  },
  {
   "cell_type": "code",
   "execution_count": 160,
   "metadata": {
    "id": "9slCue62bZeJ"
   },
   "outputs": [],
   "source": [
    "from dwave.system import DWaveSampler, EmbeddingComposite\n",
    "endpoint = 'https://cloud.dwavesys.com/sapi'\n",
    "token = 'DEV-0ed91ebd68205c97e2c6d646163cb76020f46581' # Please relace with your own token"
   ]
  },
  {
   "cell_type": "markdown",
   "metadata": {
    "id": "s0K_qwB2GbeE"
   },
   "source": [
    "Available annelers depend on the geographic location and machine's online status. The list of solvers can be found on the D-Wave Leap dashboard. "
   ]
  },
  {
   "cell_type": "code",
   "execution_count": 163,
   "metadata": {
    "id": "Gv8-8NEZb7Ve"
   },
   "outputs": [],
   "source": [
    "import time"
   ]
  },
  {
   "cell_type": "code",
   "execution_count": 191,
   "metadata": {},
   "outputs": [
    {
     "data": {
      "text/plain": [
       "{('x[0]', 'x[0]'): -5.998390519092348,\n",
       " ('x[3]', 'x[1]'): 4.000161344935638,\n",
       " ('x[2]', 'x[0]'): 4.00039355311639,\n",
       " ('x[3]', 'x[0]'): 4.000100405430845,\n",
       " ('x[3]', 'x[3]'): -5.999731114980669,\n",
       " ('x[2]', 'x[1]'): 4.000513558303082,\n",
       " ('x[0]', 'x[1]'): 4.000469686132491,\n",
       " ('x[3]', 'x[2]'): 4.0001401548903095,\n",
       " ('x[1]', 'x[1]'): -5.999953510283767,\n",
       " ('x[2]', 'x[2]'): -5.999806412338039}"
      ]
     },
     "execution_count": 191,
     "metadata": {},
     "output_type": "execute_result"
    }
   ],
   "source": [
    "qubo"
   ]
  },
  {
   "cell_type": "code",
   "execution_count": 219,
   "metadata": {
    "colab": {
     "base_uri": "https://localhost:8080/"
    },
    "id": "Y8UAX9eNnKLU",
    "outputId": "7baceb91-3cf6-4a9d-ff5b-24b49030157b"
   },
   "outputs": [
    {
     "data": {
      "text/plain": [
       "(rec.array([([0, 1, 0, 1], -7.99952328, 15, 0.),\n",
       "            ([0, 0, 1, 1], -7.99939737, 19, 0.),\n",
       "            ([0, 1, 1, 0], -7.99924636, 21, 0.),\n",
       "            ([1, 0, 0, 1], -7.99802123, 20, 0.),\n",
       "            ([1, 1, 0, 0], -7.99787434, 11, 0.),\n",
       "            ([1, 0, 1, 0], -7.99780338, 14, 0.)],\n",
       "           dtype=[('sample', 'i1', (4,)), ('energy', '<f8'), ('num_occurrences', '<i4'), ('chain_break_fraction', '<f8')]),\n",
       " 3.9285311698913574)"
      ]
     },
     "execution_count": 219,
     "metadata": {},
     "output_type": "execute_result"
    }
   ],
   "source": [
    "sampler_dw = DWaveSampler(solver='Advantage_system4.1',token=token)\n",
    "sampler_qa = EmbeddingComposite(sampler_dw)\n",
    "start_time = time.time()\n",
    "sampleset_qa = sampler_qa.sample_qubo(qubo,num_reads=100)\n",
    "records_qa = sampleset_qa.record\n",
    "records_qa, time.time() - start_time"
   ]
  },
  {
   "cell_type": "code",
   "execution_count": 229,
   "metadata": {},
   "outputs": [
    {
     "data": {
      "text/html": [
       "<div>\n",
       "<style scoped>\n",
       "    .dataframe tbody tr th:only-of-type {\n",
       "        vertical-align: middle;\n",
       "    }\n",
       "\n",
       "    .dataframe tbody tr th {\n",
       "        vertical-align: top;\n",
       "    }\n",
       "\n",
       "    .dataframe thead th {\n",
       "        text-align: right;\n",
       "    }\n",
       "</style>\n",
       "<table border=\"1\" class=\"dataframe\">\n",
       "  <thead>\n",
       "    <tr style=\"text-align: right;\">\n",
       "      <th></th>\n",
       "      <th>Stocks</th>\n",
       "      <th>Energy States</th>\n",
       "    </tr>\n",
       "  </thead>\n",
       "  <tbody>\n",
       "    <tr>\n",
       "      <th>0</th>\n",
       "      <td>AAPL, WMT</td>\n",
       "      <td>-7.999523</td>\n",
       "    </tr>\n",
       "    <tr>\n",
       "      <th>1</th>\n",
       "      <td>MSFT, WMT</td>\n",
       "      <td>-7.999397</td>\n",
       "    </tr>\n",
       "    <tr>\n",
       "      <th>2</th>\n",
       "      <td>AAPL, MSFT</td>\n",
       "      <td>-7.999246</td>\n",
       "    </tr>\n",
       "    <tr>\n",
       "      <th>3</th>\n",
       "      <td>AAL, WMT</td>\n",
       "      <td>-7.998021</td>\n",
       "    </tr>\n",
       "    <tr>\n",
       "      <th>4</th>\n",
       "      <td>AAL, AAPL</td>\n",
       "      <td>-7.997874</td>\n",
       "    </tr>\n",
       "    <tr>\n",
       "      <th>5</th>\n",
       "      <td>AAL, MSFT</td>\n",
       "      <td>-7.997803</td>\n",
       "    </tr>\n",
       "  </tbody>\n",
       "</table>\n",
       "</div>"
      ],
      "text/plain": [
       "       Stocks  Energy States\n",
       "0   AAPL, WMT      -7.999523\n",
       "1   MSFT, WMT      -7.999397\n",
       "2  AAPL, MSFT      -7.999246\n",
       "3    AAL, WMT      -7.998021\n",
       "4   AAL, AAPL      -7.997874\n",
       "5   AAL, MSFT      -7.997803"
      ]
     },
     "execution_count": 229,
     "metadata": {},
     "output_type": "execute_result"
    }
   ],
   "source": [
    "temp = pd.DataFrame(columns=['Stocks', 'Energy States'])\n",
    "for r,z in zip(records_qa, lst):\n",
    "    temp = temp.append({'Stocks':\", \".join(z), 'Energy States':r[1]}, ignore_index=True)\n",
    "temp"
   ]
  },
  {
   "cell_type": "code",
   "execution_count": 227,
   "metadata": {},
   "outputs": [
    {
     "name": "stdout",
     "output_type": "stream",
     "text": [
      "([0, 1, 0, 1], -7.99952328, 15, 0.)\n",
      "([0, 0, 1, 1], -7.99939737, 19, 0.)\n",
      "([0, 1, 1, 0], -7.99924636, 21, 0.)\n",
      "([1, 0, 0, 1], -7.99802123, 20, 0.)\n",
      "([1, 1, 0, 0], -7.99787434, 11, 0.)\n",
      "([1, 0, 1, 0], -7.99780338, 14, 0.)\n"
     ]
    },
    {
     "data": {
      "text/plain": [
       "[['AAPL', 'WMT'],\n",
       " ['MSFT', 'WMT'],\n",
       " ['AAPL', 'MSFT'],\n",
       " ['AAL', 'WMT'],\n",
       " ['AAL', 'AAPL'],\n",
       " ['AAL', 'MSFT']]"
      ]
     },
     "execution_count": 227,
     "metadata": {},
     "output_type": "execute_result"
    }
   ],
   "source": [
    "lst = []\n",
    "for record in records_qa:\n",
    "    lst1 = []\n",
    "    print(record)\n",
    "    for r, stock in zip(record[0], stocks):\n",
    "        if r == 1:\n",
    "            lst1.append(stock)\n",
    "    lst.append(lst1)\n",
    "lst"
   ]
  },
  {
   "cell_type": "markdown",
   "metadata": {
    "id": "FcnZ5rnlGx_F"
   },
   "source": [
    "Above is the result of 10 samples from the solver. \n",
    "\n",
    "First list items are the optimised combination of the stock items, 1 indicates the stock is included in the portfolio. \n",
    "\n",
    "The second value is the energy state where the lowest number is the best solution. The number shows close to minus two hundred, because the offset value is not included. \n",
    "\n",
    "Third number is the number of occurance of the solution. We have 10 reads and each read has unique stock selections.\n",
    "\n",
    "The last number indicate \"chain break\" that the connection between qubits are broken then fixed by the software. Ideal soliution should have 0. chain break ratio.\n",
    "\n",
    "Using records returned from the D-Wave solver, we can validate if the constraint terms are complied."
   ]
  },
  {
   "cell_type": "code",
   "execution_count": 196,
   "metadata": {
    "id": "f8CAuYfAoHWY"
   },
   "outputs": [],
   "source": [
    "portfolio_candidates_qa = []\n",
    "num_stock_counts_qa = []\n",
    "record_len = len(records_qa)\n",
    "for i in range(record_len):\n",
    "    portfolio = []\n",
    "    num_stock_count = 0\n",
    "    for j in range(len(records_qa[i][0])):\n",
    "        if records_qa[i][0][j] == 1:\n",
    "            portfolio.append(stocks[j])\n",
    "            num_stock_count += 1\n",
    "    portfolio_candidates_qa.append(portfolio)\n",
    "    num_stock_counts_qa.append(num_stock_count)"
   ]
  },
  {
   "cell_type": "code",
   "execution_count": 197,
   "metadata": {
    "colab": {
     "base_uri": "https://localhost:8080/"
    },
    "id": "fbhM3LzcpfTT",
    "outputId": "165ba3db-46bb-428d-f916-dc42364624bd"
   },
   "outputs": [
    {
     "data": {
      "text/plain": [
       "[2, 2, 2, 2]"
      ]
     },
     "execution_count": 197,
     "metadata": {},
     "output_type": "execute_result"
    }
   ],
   "source": [
    "num_stock_counts_qa # number of stocks selected for the portfolio"
   ]
  },
  {
   "cell_type": "markdown",
   "metadata": {
    "id": "QYi817jh0VkQ"
   },
   "source": [
    "In our example, 4 of the 10 solutions fit the requirement. We may adjust the coeffient value by increasing the penalty."
   ]
  },
  {
   "cell_type": "markdown",
   "metadata": {
    "id": "-rApXs6WKAWS"
   },
   "source": [
    "Finally, we can select one best solution and display the sotck codes.\n",
    "We will use 7th record where there was no chain break."
   ]
  },
  {
   "cell_type": "code",
   "execution_count": 50,
   "metadata": {
    "colab": {
     "base_uri": "https://localhost:8080/"
    },
    "id": "UAQWDqxUqwxw",
    "outputId": "aceef0e2-1117-435d-d650-0fd040bef612"
   },
   "outputs": [
    {
     "name": "stdout",
     "output_type": "stream",
     "text": [
      "['AAPL', 'WMT']\n"
     ]
    }
   ],
   "source": [
    "best_portfolio_qa = portfolio_candidates_qa[0]\n",
    "print(best_portfolio_qa)"
   ]
  },
  {
   "cell_type": "markdown",
   "metadata": {
    "id": "_O2vKFSj0s5v"
   },
   "source": [
    "D-Wave has hybrid solver that uses classical computer and quantum annealer. \n",
    "The solver 'hybrid_binary_quadratic_model_version2' can have up to 1,000,000 variables.\n",
    "\n",
    "To try the hybrid solver, we need to import LeapHybridSampler library. The difference from the quantum solver are: \n",
    "\n",
    "- it does not require embed composite\n",
    "- only one sample record is returned (no num_reads parameter)\n",
    "- it consumes more QPU time (different conversion rate applies QPU: Hybrid 1:20)\n"
   ]
  },
  {
   "cell_type": "code",
   "execution_count": 159,
   "metadata": {
    "colab": {
     "base_uri": "https://localhost:8080/"
    },
    "id": "Ual7XMplxg0G",
    "outputId": "de83b02c-6a00-4f90-8f99-9531d27927f4"
   },
   "outputs": [
    {
     "name": "stdout",
     "output_type": "stream",
     "text": [
      "[([0, 1, 0, 1], -7.99952364, 1)]\n"
     ]
    }
   ],
   "source": [
    "from dwave.system import LeapHybridSampler\n",
    "sampler_dw = DWaveSampler(solver='Advantage_system6.1',token=token)\n",
    "sampler_qa = EmbeddingComposite(sampler_dw)\n",
    "sampler_dw_hybrid = LeapHybridSampler(solver='hybrid_binary_quadratic_model_version2',token=token)\n",
    "sampleset_qa_hybrid = sampler_dw_hybrid.sample_qubo(qubo)\n",
    "records_qa_hybrid = sampleset_qa_hybrid.record\n",
    "print(records_qa_hybrid)"
   ]
  },
  {
   "cell_type": "code",
   "execution_count": 52,
   "metadata": {},
   "outputs": [
    {
     "data": {
      "text/plain": [
       "SampleSet(rec.array([([0, 1, 0, 1], -7.99952364, 1)],\n",
       "          dtype=[('sample', 'i1', (4,)), ('energy', '<f8'), ('num_occurrences', '<i8')]), Variables(['x[0]', 'x[1]', 'x[2]', 'x[3]']), {'qpu_access_time': 127917, 'charge_time': 2995336, 'run_time': 2995336, 'problem_id': '7eb4829c-c872-47ac-ad40-8a1c9b51008f'}, 'BINARY')"
      ]
     },
     "execution_count": 52,
     "metadata": {},
     "output_type": "execute_result"
    }
   ],
   "source": [
    "sampleset_qa_hybrid"
   ]
  },
  {
   "cell_type": "code",
   "execution_count": 66,
   "metadata": {},
   "outputs": [
    {
     "data": {
      "text/plain": [
       "rec.array([([0, 1, 0, 1], -7.99952328, 5, 0.),\n",
       "           ([0, 0, 1, 1], -7.99939737, 1, 0.),\n",
       "           ([0, 1, 1, 0], -7.99924636, 3, 0.),\n",
       "           ([1, 0, 0, 1], -7.99802123, 1, 0.)],\n",
       "          dtype=[('sample', 'i1', (4,)), ('energy', '<f8'), ('num_occurrences', '<i4'), ('chain_break_fraction', '<f8')])"
      ]
     },
     "execution_count": 66,
     "metadata": {},
     "output_type": "execute_result"
    }
   ],
   "source": [
    "records_qa"
   ]
  },
  {
   "cell_type": "code",
   "execution_count": 55,
   "metadata": {},
   "outputs": [
    {
     "data": {
      "text/plain": [
       "['AAL', 'AAPL', 'MSFT', 'WMT']"
      ]
     },
     "execution_count": 55,
     "metadata": {},
     "output_type": "execute_result"
    }
   ],
   "source": [
    "stocks"
   ]
  },
  {
   "cell_type": "code",
   "execution_count": 67,
   "metadata": {},
   "outputs": [],
   "source": [
    "from dimod.reference.samplers import ExactSolver\n",
    "sampler = ExactSolver()\n",
    "sampleset = sampler.sample_qubo(qubo)"
   ]
  },
  {
   "cell_type": "code",
   "execution_count": 73,
   "metadata": {},
   "outputs": [],
   "source": [
    "temp = list(sampleset.record)\n",
    "temp.sort(key = lambda x: x[1])"
   ]
  },
  {
   "cell_type": "code",
   "execution_count": 74,
   "metadata": {},
   "outputs": [
    {
     "data": {
      "text/plain": [
       "[([0, 1, 0, 1], -7.99952328, 1),\n",
       " ([0, 0, 1, 1], -7.99939737, 1),\n",
       " ([0, 1, 1, 0], -7.99924636, 1),\n",
       " ([1, 0, 0, 1], -7.99802123, 1),\n",
       " ([1, 1, 0, 0], -7.99787434, 1),\n",
       " ([1, 0, 1, 0], -7.99780338, 1),\n",
       " ([0, 1, 0, 0], -5.99995351, 1),\n",
       " ([0, 0, 1, 0], -5.99980641, 1),\n",
       " ([0, 0, 0, 1], -5.99973111, 1),\n",
       " ([0, 1, 1, 1], -5.99867598, 1),\n",
       " ([1, 0, 0, 0], -5.99839052, 1),\n",
       " ([1, 1, 0, 1], -5.99734371, 1),\n",
       " ([1, 0, 1, 1], -5.99729393, 1),\n",
       " ([1, 1, 1, 0], -5.99677364, 1),\n",
       " ([0, 0, 0, 0], 0., 1),\n",
       " ([1, 1, 1, 1], 0.00389715, 1)]"
      ]
     },
     "execution_count": 74,
     "metadata": {},
     "output_type": "execute_result"
    }
   ],
   "source": [
    "temp"
   ]
  },
  {
   "cell_type": "markdown",
   "metadata": {
    "tags": []
   },
   "source": [
    "# 5. Sharpe ratio"
   ]
  },
  {
   "cell_type": "code",
   "execution_count": 88,
   "metadata": {},
   "outputs": [
    {
     "name": "stdout",
     "output_type": "stream",
     "text": [
      "[['AAL', 'AAPL'], ['AAL', 'MSFT'], ['AAL', 'WMT'], ['AAPL', 'MSFT'], ['AAPL', 'WMT'], ['MSFT', 'WMT']]\n"
     ]
    }
   ],
   "source": [
    "import itertools\n",
    "combinations = []\n",
    "for combination in itertools.combinations(stocks, 2):\n",
    "    combinations.append(list(combination))\n",
    "print(combinations)"
   ]
  },
  {
   "cell_type": "code",
   "execution_count": 97,
   "metadata": {},
   "outputs": [],
   "source": [
    "# log daily return\n",
    "log_return = np.log(data/data.shift(1))"
   ]
  },
  {
   "cell_type": "code",
   "execution_count": 99,
   "metadata": {},
   "outputs": [
    {
     "data": {
      "text/html": [
       "<div>\n",
       "<style scoped>\n",
       "    .dataframe tbody tr th:only-of-type {\n",
       "        vertical-align: middle;\n",
       "    }\n",
       "\n",
       "    .dataframe tbody tr th {\n",
       "        vertical-align: top;\n",
       "    }\n",
       "\n",
       "    .dataframe thead th {\n",
       "        text-align: right;\n",
       "    }\n",
       "</style>\n",
       "<table border=\"1\" class=\"dataframe\">\n",
       "  <thead>\n",
       "    <tr style=\"text-align: right;\">\n",
       "      <th></th>\n",
       "      <th>AAL</th>\n",
       "      <th>AAPL</th>\n",
       "      <th>MSFT</th>\n",
       "      <th>WMT</th>\n",
       "    </tr>\n",
       "    <tr>\n",
       "      <th>Date</th>\n",
       "      <th></th>\n",
       "      <th></th>\n",
       "      <th></th>\n",
       "      <th></th>\n",
       "    </tr>\n",
       "  </thead>\n",
       "  <tbody>\n",
       "    <tr>\n",
       "      <th>2021-01-04</th>\n",
       "      <td>NaN</td>\n",
       "      <td>NaN</td>\n",
       "      <td>NaN</td>\n",
       "      <td>NaN</td>\n",
       "    </tr>\n",
       "    <tr>\n",
       "      <th>2021-01-05</th>\n",
       "      <td>0.019634</td>\n",
       "      <td>0.012288</td>\n",
       "      <td>0.000964</td>\n",
       "      <td>-0.005337</td>\n",
       "    </tr>\n",
       "    <tr>\n",
       "      <th>2021-01-06</th>\n",
       "      <td>0.005816</td>\n",
       "      <td>-0.034241</td>\n",
       "      <td>-0.026271</td>\n",
       "      <td>0.006224</td>\n",
       "    </tr>\n",
       "    <tr>\n",
       "      <th>2021-01-07</th>\n",
       "      <td>-0.009062</td>\n",
       "      <td>0.033554</td>\n",
       "      <td>0.028060</td>\n",
       "      <td>-0.000068</td>\n",
       "    </tr>\n",
       "    <tr>\n",
       "      <th>2021-01-08</th>\n",
       "      <td>-0.016388</td>\n",
       "      <td>0.008594</td>\n",
       "      <td>0.006074</td>\n",
       "      <td>-0.000136</td>\n",
       "    </tr>\n",
       "  </tbody>\n",
       "</table>\n",
       "</div>"
      ],
      "text/plain": [
       "                 AAL      AAPL      MSFT       WMT\n",
       "Date                                              \n",
       "2021-01-04       NaN       NaN       NaN       NaN\n",
       "2021-01-05  0.019634  0.012288  0.000964 -0.005337\n",
       "2021-01-06  0.005816 -0.034241 -0.026271  0.006224\n",
       "2021-01-07 -0.009062  0.033554  0.028060 -0.000068\n",
       "2021-01-08 -0.016388  0.008594  0.006074 -0.000136"
      ]
     },
     "execution_count": 99,
     "metadata": {},
     "output_type": "execute_result"
    }
   ],
   "source": [
    "log_return.head()"
   ]
  },
  {
   "cell_type": "code",
   "execution_count": 100,
   "metadata": {},
   "outputs": [
    {
     "name": "stdout",
     "output_type": "stream",
     "text": [
      "['AAL', 'AAPL']\n",
      "Random Weights:\n",
      "[0.5760542  0.23324352]\n",
      "Rebalance\n",
      "[0.71179516 0.28820484]\n",
      "Expected Portfolio Return\n",
      "-0.001029363157277835\n",
      "Expected Volatility\n",
      "0.4154367007872139\n",
      "Sharpe Ratio\n",
      "-0.002477785798239028\n",
      "**********************\n",
      "['AAL', 'MSFT']\n",
      "Random Weights:\n",
      "[0.105158  0.2187034]\n",
      "Rebalance\n",
      "[0.32470063 0.67529937]\n",
      "Expected Portfolio Return\n",
      "0.015900120471511334\n",
      "Expected Volatility\n",
      "0.2969128496439498\n",
      "Sharpe Ratio\n",
      "0.05355147306887643\n",
      "**********************\n",
      "['AAL', 'WMT']\n",
      "Random Weights:\n",
      "[0.18375207 0.13555124]\n",
      "Rebalance\n",
      "[0.57547813 0.42452187]\n",
      "Expected Portfolio Return\n",
      "-0.03100821532286579\n",
      "Expected Volatility\n",
      "0.3272856822806911\n",
      "Sharpe Ratio\n",
      "-0.09474357419727304\n",
      "**********************\n",
      "['AAPL', 'MSFT']\n",
      "Random Weights:\n",
      "[0.36828281 0.83639026]\n",
      "Rebalance\n",
      "[0.30571183 0.69428817]\n",
      "Expected Portfolio Return\n",
      "0.06165847820864548\n",
      "Expected Volatility\n",
      "0.27395174174229864\n",
      "Sharpe Ratio\n",
      "0.2250705829300639\n",
      "**********************\n",
      "['AAPL', 'WMT']\n",
      "Random Weights:\n",
      "[0.90120443 0.36279611]\n",
      "Rebalance\n",
      "[0.71297788 0.28702212]\n",
      "Expected Portfolio Return\n",
      "0.06811178377933506\n",
      "Expected Volatility\n",
      "0.2414546399781487\n",
      "Sharpe Ratio\n",
      "0.28208935552242476\n",
      "**********************\n",
      "['MSFT', 'WMT']\n",
      "Random Weights:\n",
      "[0.48068457 0.639215  ]\n",
      "Rebalance\n",
      "[0.42922114 0.57077886]\n",
      "Expected Portfolio Return\n",
      "0.010183949507259713\n",
      "Expected Volatility\n",
      "0.20025233323755595\n",
      "Sharpe Ratio\n",
      "0.05085558476454138\n",
      "**********************\n"
     ]
    }
   ],
   "source": [
    "results = {}\n",
    "for c in combinations:\n",
    "    print(c)\n",
    "    weights = np.array(np.random.random(2))\n",
    "    print('Random Weights:')\n",
    "    print(weights)\n",
    "\n",
    "    print('Rebalance')\n",
    "    weights = weights/np.sum(weights)\n",
    "    print(weights)\n",
    "\n",
    "    # expected return\n",
    "    print('Expected Portfolio Return')\n",
    "    exp_ret = np.sum((log_return[c].mean()*weights)*252)\n",
    "    print(exp_ret)\n",
    "\n",
    "    # expected volatility\n",
    "    print('Expected Volatility')\n",
    "    exp_vol = np.sqrt(np.dot(weights.T,np.dot(log_return[c].cov()*252, weights)))\n",
    "    print(exp_vol)\n",
    "\n",
    "    # Sharpe Ratio\n",
    "    print('Sharpe Ratio')\n",
    "    SR = exp_ret/exp_vol\n",
    "    print(SR)\n",
    "    results[\", \".join(c)] = SR\n",
    "    print('**********************')"
   ]
  },
  {
   "cell_type": "code",
   "execution_count": 101,
   "metadata": {},
   "outputs": [
    {
     "data": {
      "text/plain": [
       "{'AAL, AAPL': -0.002477785798239028,\n",
       " 'AAL, MSFT': 0.05355147306887643,\n",
       " 'AAL, WMT': -0.09474357419727304,\n",
       " 'AAPL, MSFT': 0.2250705829300639,\n",
       " 'AAPL, WMT': 0.28208935552242476,\n",
       " 'MSFT, WMT': 0.05085558476454138}"
      ]
     },
     "execution_count": 101,
     "metadata": {},
     "output_type": "execute_result"
    }
   ],
   "source": [
    "results"
   ]
  },
  {
   "cell_type": "code",
   "execution_count": 107,
   "metadata": {},
   "outputs": [
    {
     "data": {
      "text/plain": [
       "[('AAPL, WMT', 0.28208935552242476),\n",
       " ('AAPL, MSFT', 0.2250705829300639),\n",
       " ('AAL, MSFT', 0.05355147306887643),\n",
       " ('MSFT, WMT', 0.05085558476454138),\n",
       " ('AAL, AAPL', -0.002477785798239028),\n",
       " ('AAL, WMT', -0.09474357419727304)]"
      ]
     },
     "execution_count": 107,
     "metadata": {},
     "output_type": "execute_result"
    }
   ],
   "source": [
    "sorted(results.items(), key=lambda x:x[1], reverse=True)"
   ]
  },
  {
   "cell_type": "markdown",
   "metadata": {},
   "source": [
    "# 6. Monte Carlo"
   ]
  },
  {
   "cell_type": "code",
   "execution_count": 231,
   "metadata": {},
   "outputs": [
    {
     "data": {
      "text/plain": [
       "array([[0, 0, 1, 1],\n",
       "       [0, 1, 0, 1],\n",
       "       [0, 1, 1, 0],\n",
       "       [1, 0, 0, 1],\n",
       "       [1, 0, 1, 0],\n",
       "       [1, 1, 0, 0]])"
      ]
     },
     "execution_count": 231,
     "metadata": {},
     "output_type": "execute_result"
    }
   ],
   "source": [
    "lst = np.array([m for m in list(itertools.product([0, 1], repeat=4)) if sum(m) == 2])\n",
    "lst"
   ]
  },
  {
   "cell_type": "code",
   "execution_count": 232,
   "metadata": {},
   "outputs": [],
   "source": [
    "cost1 = -np.dot(x, pred_return_rate_mean)"
   ]
  },
  {
   "cell_type": "code",
   "execution_count": 233,
   "metadata": {},
   "outputs": [
    {
     "data": {
      "text/plain": [
       "(0.000000 + (-1.000000 * ((Binary('x[3]') * -0.000074) + (Binary('x[2]') * 0.000124) + (Binary('x[0]') * -0.000510) + (Binary('x[1]') * 0.000309))))"
      ]
     },
     "execution_count": 233,
     "metadata": {},
     "output_type": "execute_result"
    }
   ],
   "source": [
    "h_cost1"
   ]
  },
  {
   "cell_type": "code",
   "execution_count": 234,
   "metadata": {},
   "outputs": [],
   "source": [
    "cost2 = 0\n",
    "for i in range(N):\n",
    "    for j in range(N):\n",
    "        cost2 += x[i]*x[j]*np.sum((actual_return_rate[i]-actual_return_rate_mean[i])*(actual_return_rate[j]-actual_return_rate_mean[j]))/len(actual_return_rate[i])"
   ]
  },
  {
   "cell_type": "code",
   "execution_count": 235,
   "metadata": {},
   "outputs": [
    {
     "data": {
      "text/plain": [
       "0.001924305369074515"
      ]
     },
     "execution_count": 235,
     "metadata": {},
     "output_type": "execute_result"
    }
   ],
   "source": [
    "cost2"
   ]
  },
  {
   "cell_type": "code",
   "execution_count": 236,
   "metadata": {},
   "outputs": [
    {
     "data": {
      "text/plain": [
       "((((Binary('x[3]') * Binary('x[3]')) * 0.089424) * 0.002174) + (((Binary('x[3]') * Binary('x[2]')) * 0.032236) * 0.002174) + (((Binary('x[3]') * Binary('x[1]')) * 0.037109) * 0.002174) + (((Binary('x[3]') * Binary('x[0]')) * 0.023093) * 0.002174) + (((Binary('x[2]') * Binary('x[3]')) * 0.032236) * 0.002174) + (((Binary('x[2]') * Binary('x[2]')) * 0.146064) * 0.002174) + (((Binary('x[2]') * Binary('x[1]')) * 0.118118) * 0.002174) + (((Binary('x[2]') * Binary('x[0]')) * 0.090517) * 0.002174) + (((Binary('x[1]') * Binary('x[3]')) * 0.037109) * 0.002174) + (((Binary('x[1]') * Binary('x[2]')) * 0.118118) * 0.002174) + (((Binary('x[1]') * Binary('x[1]')) * 0.163459) * 0.002174) + (((Binary('x[1]') * Binary('x[0]')) * 0.108028) * 0.002174) + (((Binary('x[0]') * Binary('x[3]')) * 0.023093) * 0.002174) + (((Binary('x[0]') * Binary('x[2]')) * 0.090517) * 0.002174) + (((Binary('x[0]') * Binary('x[1]')) * 0.108028) * 0.002174) + 0.000000 + (((Binary('x[0]') * Binary('x[0]')) * 0.505665) * 0.002174))"
      ]
     },
     "execution_count": 236,
     "metadata": {},
     "output_type": "execute_result"
    }
   ],
   "source": [
    "h_cost2"
   ]
  },
  {
   "cell_type": "code",
   "execution_count": 240,
   "metadata": {},
   "outputs": [
    {
     "data": {
      "text/plain": [
       "([['MSFT', 'WMT'],\n",
       "  ['AAPL', 'WMT'],\n",
       "  ['AAPL', 'MSFT'],\n",
       "  ['AAL', 'WMT'],\n",
       "  ['AAL', 'MSFT'],\n",
       "  ['AAL', 'AAPL']],\n",
       " array([[0, 0, 1, 1],\n",
       "        [0, 1, 0, 1],\n",
       "        [0, 1, 1, 0],\n",
       "        [1, 0, 0, 1],\n",
       "        [1, 0, 1, 0],\n",
       "        [1, 1, 0, 0]]))"
      ]
     },
     "execution_count": 240,
     "metadata": {},
     "output_type": "execute_result"
    }
   ],
   "source": [
    "stock_lst = []\n",
    "for record in lst:\n",
    "    lst1 = []\n",
    "    for r, stock in zip(record, stocks):\n",
    "        if r == 1:\n",
    "            lst1.append(stock)\n",
    "    stock_lst.append(lst1)\n",
    "stock_lst, lst"
   ]
  },
  {
   "cell_type": "code",
   "execution_count": 244,
   "metadata": {},
   "outputs": [
    {
     "data": {
      "text/plain": [
       "0.016308069229125977"
      ]
     },
     "execution_count": 244,
     "metadata": {},
     "output_type": "execute_result"
    }
   ],
   "source": [
    "start_time = time.time()\n",
    "temp = pd.DataFrame()\n",
    "for z,x in zip(stock_lst, lst):\n",
    "    obj = (((((x[3] * x[3]) * 0.089424) * 0.002174) + (((x[3] * x[2]) * 0.032236) * 0.002174) + (((x[3] * x[1]) * 0.037109) * 0.002174) + (((x[3] * x[0]) * 0.023093) * 0.002174) + (((x[2] * x[3]) * 0.032236) * 0.002174) + (((x[2] * x[2]) * 0.146064) * 0.002174) + (((x[2] * x[1]) * 0.118118) * 0.002174) + (((x[2] * x[0]) * 0.090517) * 0.002174) + (((x[1] * x[3]) * 0.037109) * 0.002174) + (((x[1] * x[2]) * 0.118118) * 0.002174) + (((x[1] * x[1]) * 0.163459) * 0.002174) + (((x[1] * x[0]) * 0.108028) * 0.002174) + (((x[0] * x[3]) * 0.023093) * 0.002174) + (((x[0] * x[2]) * 0.090517) * 0.002174) + (((x[0] * x[1]) * 0.108028) * 0.002174) + 0.000000 + (((x[0] * x[0]) * 0.505665) * 0.002174)) + 0.000000 + (-1.000000 * ((x[3] * -0.000074) + (x[2] * 0.000124) + (x[0] * -0.000510) + (x[1] * 0.000309))))\n",
    "    temp = temp.append({\"Stocks\": z, \"Cost function value\": obj}, ignore_index=True)\n",
    "time.time() - start_time"
   ]
  },
  {
   "cell_type": "code",
   "execution_count": 242,
   "metadata": {},
   "outputs": [
    {
     "data": {
      "text/html": [
       "<div>\n",
       "<style scoped>\n",
       "    .dataframe tbody tr th:only-of-type {\n",
       "        vertical-align: middle;\n",
       "    }\n",
       "\n",
       "    .dataframe tbody tr th {\n",
       "        vertical-align: top;\n",
       "    }\n",
       "\n",
       "    .dataframe thead th {\n",
       "        text-align: right;\n",
       "    }\n",
       "</style>\n",
       "<table border=\"1\" class=\"dataframe\">\n",
       "  <thead>\n",
       "    <tr style=\"text-align: right;\">\n",
       "      <th></th>\n",
       "      <th>combination</th>\n",
       "      <th>objective function value</th>\n",
       "    </tr>\n",
       "  </thead>\n",
       "  <tbody>\n",
       "    <tr>\n",
       "      <th>0</th>\n",
       "      <td>[MSFT, WMT]</td>\n",
       "      <td>0.000602</td>\n",
       "    </tr>\n",
       "    <tr>\n",
       "      <th>1</th>\n",
       "      <td>[AAPL, WMT]</td>\n",
       "      <td>0.000476</td>\n",
       "    </tr>\n",
       "    <tr>\n",
       "      <th>2</th>\n",
       "      <td>[AAPL, MSFT]</td>\n",
       "      <td>0.000753</td>\n",
       "    </tr>\n",
       "    <tr>\n",
       "      <th>3</th>\n",
       "      <td>[AAL, WMT]</td>\n",
       "      <td>0.001978</td>\n",
       "    </tr>\n",
       "    <tr>\n",
       "      <th>4</th>\n",
       "      <td>[AAL, MSFT]</td>\n",
       "      <td>0.002196</td>\n",
       "    </tr>\n",
       "    <tr>\n",
       "      <th>5</th>\n",
       "      <td>[AAL, AAPL]</td>\n",
       "      <td>0.002125</td>\n",
       "    </tr>\n",
       "  </tbody>\n",
       "</table>\n",
       "</div>"
      ],
      "text/plain": [
       "    combination  objective function value\n",
       "0   [MSFT, WMT]                  0.000602\n",
       "1   [AAPL, WMT]                  0.000476\n",
       "2  [AAPL, MSFT]                  0.000753\n",
       "3    [AAL, WMT]                  0.001978\n",
       "4   [AAL, MSFT]                  0.002196\n",
       "5   [AAL, AAPL]                  0.002125"
      ]
     },
     "execution_count": 242,
     "metadata": {},
     "output_type": "execute_result"
    }
   ],
   "source": [
    "temp"
   ]
  },
  {
   "cell_type": "code",
   "execution_count": 248,
   "metadata": {},
   "outputs": [
    {
     "data": {
      "text/html": [
       "<div>\n",
       "<style scoped>\n",
       "    .dataframe tbody tr th:only-of-type {\n",
       "        vertical-align: middle;\n",
       "    }\n",
       "\n",
       "    .dataframe tbody tr th {\n",
       "        vertical-align: top;\n",
       "    }\n",
       "\n",
       "    .dataframe thead th {\n",
       "        text-align: right;\n",
       "    }\n",
       "</style>\n",
       "<table border=\"1\" class=\"dataframe\">\n",
       "  <thead>\n",
       "    <tr style=\"text-align: right;\">\n",
       "      <th></th>\n",
       "      <th>Stocks</th>\n",
       "      <th>Cost function value</th>\n",
       "    </tr>\n",
       "  </thead>\n",
       "  <tbody>\n",
       "    <tr>\n",
       "      <th>0</th>\n",
       "      <td>[AAPL, WMT]</td>\n",
       "      <td>0.000476</td>\n",
       "    </tr>\n",
       "    <tr>\n",
       "      <th>1</th>\n",
       "      <td>[MSFT, WMT]</td>\n",
       "      <td>0.000602</td>\n",
       "    </tr>\n",
       "    <tr>\n",
       "      <th>2</th>\n",
       "      <td>[AAPL, MSFT]</td>\n",
       "      <td>0.000753</td>\n",
       "    </tr>\n",
       "    <tr>\n",
       "      <th>3</th>\n",
       "      <td>[AAL, WMT]</td>\n",
       "      <td>0.001978</td>\n",
       "    </tr>\n",
       "    <tr>\n",
       "      <th>4</th>\n",
       "      <td>[AAL, AAPL]</td>\n",
       "      <td>0.002125</td>\n",
       "    </tr>\n",
       "    <tr>\n",
       "      <th>5</th>\n",
       "      <td>[AAL, MSFT]</td>\n",
       "      <td>0.002196</td>\n",
       "    </tr>\n",
       "  </tbody>\n",
       "</table>\n",
       "</div>"
      ],
      "text/plain": [
       "         Stocks  Cost function value\n",
       "0   [AAPL, WMT]             0.000476\n",
       "1   [MSFT, WMT]             0.000602\n",
       "2  [AAPL, MSFT]             0.000753\n",
       "3    [AAL, WMT]             0.001978\n",
       "4   [AAL, AAPL]             0.002125\n",
       "5   [AAL, MSFT]             0.002196"
      ]
     },
     "execution_count": 248,
     "metadata": {},
     "output_type": "execute_result"
    }
   ],
   "source": [
    "temp.sort_values(\"Cost function value\", ignore_index=True)"
   ]
  },
  {
   "cell_type": "code",
   "execution_count": null,
   "metadata": {},
   "outputs": [],
   "source": []
  }
 ],
 "metadata": {
  "colab": {
   "authorship_tag": "ABX9TyPipMoNtOXQNeppvssSErAZ",
   "collapsed_sections": [],
   "include_colab_link": true,
   "name": "TDS_QA_Example_Portfolio_Optimisation.ipynb",
   "provenance": []
  },
  "kernelspec": {
   "display_name": "Python 3 (ipykernel)",
   "language": "python",
   "name": "python3"
  },
  "language_info": {
   "codemirror_mode": {
    "name": "ipython",
    "version": 3
   },
   "file_extension": ".py",
   "mimetype": "text/x-python",
   "name": "python",
   "nbconvert_exporter": "python",
   "pygments_lexer": "ipython3",
   "version": "3.8.10"
  }
 },
 "nbformat": 4,
 "nbformat_minor": 4
}
